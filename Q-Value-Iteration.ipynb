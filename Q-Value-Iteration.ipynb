{
 "cells": [
  {
   "cell_type": "code",
   "execution_count": 1,
   "id": "756db2d1",
   "metadata": {},
   "outputs": [],
   "source": [
    "import numpy as np"
   ]
  },
  {
   "cell_type": "code",
   "execution_count": 163,
   "id": "8c0fcd97",
   "metadata": {},
   "outputs": [],
   "source": [
    "v = np.array([0.,0.,0.,0.,0.,0.])\n",
    "reward = np.array([0.,0.,0.,0.,1.,0.])"
   ]
  },
  {
   "cell_type": "code",
   "execution_count": 88,
   "id": "91c6f6b5",
   "metadata": {},
   "outputs": [],
   "source": [
    "def reward(s):\n",
    "    if s==4:\n",
    "        return 1.\n",
    "    else:\n",
    "        return 0."
   ]
  },
  {
   "cell_type": "code",
   "execution_count": 113,
   "id": "89a94e6a",
   "metadata": {},
   "outputs": [],
   "source": [
    "gamma = 0.5\n",
    "T = 10"
   ]
  },
  {
   "cell_type": "code",
   "execution_count": 151,
   "id": "b076a496",
   "metadata": {},
   "outputs": [
    {
     "name": "stdout",
     "output_type": "stream",
     "text": [
      "[0.  0.  0.  0.5 1.  0. ]\n",
      "[0.  0.  0.  0.5 1.  0. ]\n",
      "[0.   0.   0.25 0.5  1.   0.  ]\n",
      "[0.   0.   0.25 0.5  1.   0.  ]\n",
      "[0.   0.   0.25 0.5  1.   0.  ]\n"
     ]
    }
   ],
   "source": [
    "for i in range(0,v.shape[0]-1):\n",
    "    vi = np.copy(v)\n",
    "    v[i] = reward[i] + gamma*v[i+1]\n",
    "    print(v-vi)"
   ]
  },
  {
   "cell_type": "code",
   "execution_count": 149,
   "id": "223ff959",
   "metadata": {},
   "outputs": [
    {
     "name": "stdout",
     "output_type": "stream",
     "text": [
      "[0. 0. 0. 0. 1. 0.]\n"
     ]
    }
   ],
   "source": [
    "print(v)"
   ]
  },
  {
   "cell_type": "code",
   "execution_count": 127,
   "id": "e8b1fec5",
   "metadata": {},
   "outputs": [],
   "source": [
    "v = reward + gamma*np.roll(v,-1)"
   ]
  },
  {
   "cell_type": "code",
   "execution_count": 160,
   "id": "72dad9b5",
   "metadata": {},
   "outputs": [],
   "source": [
    "n=10"
   ]
  },
  {
   "cell_type": "code",
   "execution_count": 164,
   "id": "98aa9f47",
   "metadata": {},
   "outputs": [
    {
     "name": "stdout",
     "output_type": "stream",
     "text": [
      "[0. 0. 0. 0. 1. 0.] [0. 0. 0. 0. 1. 0.]\n",
      "[0.  0.  0.  0.5 0.  0. ] [0.  0.  0.  0.5 1.  0. ]\n",
      "[0.   0.   0.25 0.   0.   0.  ] [0.   0.   0.25 0.5  1.   0.  ]\n",
      "[0.    0.125 0.    0.    0.    0.   ] [0.    0.125 0.25  0.5   1.    0.   ]\n",
      "[0.0625 0.     0.     0.     0.     0.    ] [0.0625 0.125  0.25   0.5    1.     0.    ]\n",
      "[0. 0. 0. 0. 0. 0.] [0.0625 0.125  0.25   0.5    1.     0.    ]\n",
      "[0. 0. 0. 0. 0. 0.] [0.0625 0.125  0.25   0.5    1.     0.    ]\n",
      "[0. 0. 0. 0. 0. 0.] [0.0625 0.125  0.25   0.5    1.     0.    ]\n",
      "[0. 0. 0. 0. 0. 0.] [0.0625 0.125  0.25   0.5    1.     0.    ]\n",
      "[0. 0. 0. 0. 0. 0.] [0.0625 0.125  0.25   0.5    1.     0.    ]\n"
     ]
    }
   ],
   "source": [
    "for i in range(0,n):\n",
    "    vi = np.copy(v)\n",
    "    v[:-1] = reward[:-1] + gamma* np.roll(v,-1)[:-1] \n",
    "    print(v-vi,v)"
   ]
  },
  {
   "cell_type": "code",
   "execution_count": 159,
   "id": "eb9996b8",
   "metadata": {},
   "outputs": [
    {
     "name": "stdout",
     "output_type": "stream",
     "text": [
      "[0.   0.   0.25 0.5  1.   0.  ]\n"
     ]
    }
   ],
   "source": [
    "print(v[:])"
   ]
  },
  {
   "cell_type": "code",
   "execution_count": 145,
   "id": "a8cb3f7a",
   "metadata": {},
   "outputs": [],
   "source": [
    "v = np.array([1.,2.,3.,4.,5.,6.])"
   ]
  },
  {
   "cell_type": "code",
   "execution_count": 146,
   "id": "f6e7d33d",
   "metadata": {},
   "outputs": [
    {
     "name": "stdout",
     "output_type": "stream",
     "text": [
      "[1. 2. 3. 4. 5. 6.]\n",
      "[1. 2. 3. 4. 5. 6.]\n",
      "[1. 2. 3. 4. 5. 6.]\n",
      "[1.  1.5 3.  4.  5.  6. ]\n",
      "[1.  1.5 3.  4.  5.  6. ]\n",
      "[1.  1.5 2.  4.  5.  6. ]\n",
      "[1.  1.5 2.  4.  5.  6. ]\n",
      "[1.  1.5 2.  2.5 5.  6. ]\n",
      "[1.  1.5 2.  2.5 5.  6. ]\n",
      "[1.  1.5 2.  2.5 3.  6. ]\n"
     ]
    }
   ],
   "source": [
    "for i in range(0,v.shape[0]-1):\n",
    "    print(v)\n",
    "    v[i] = gamma*v[i+1]\n",
    "    print(v)\n",
    "    #print(v-vi)"
   ]
  },
  {
   "cell_type": "markdown",
   "id": "6b603fee",
   "metadata": {},
   "source": [
    "implement a deterministic markov decision process"
   ]
  },
  {
   "cell_type": "code",
   "execution_count": 197,
   "id": "930d9b80",
   "metadata": {},
   "outputs": [],
   "source": [
    "nstates = 4\n",
    "r = np.array([[0,1,0,0],[1,0,1,0],[0,1,0,10],[0,0,10,0]])\n",
    "a = np.array([[0,1,0,0],[1,0,1,0],[0,1,0,1],[0,0,1,0]])\n",
    "gamma = 0.75"
   ]
  },
  {
   "cell_type": "code",
   "execution_count": 198,
   "id": "7a6324e4",
   "metadata": {},
   "outputs": [],
   "source": [
    "v = np.zeros(nstates)\n",
    "vf = np.zeros(nstates)\n",
    "istate = 0\n",
    "i = 0\n",
    "imax = 100 #number of max iterations"
   ]
  },
  {
   "cell_type": "code",
   "execution_count": 199,
   "id": "1c1dbc0a",
   "metadata": {},
   "outputs": [
    {
     "name": "stdout",
     "output_type": "stream",
     "text": [
      "0 [ 1.  1. 10. 10.]\n",
      "1 [ 1.75  8.5  17.5  17.5 ]\n",
      "2 [ 7.375 14.125 23.125 23.125]\n",
      "3 [11.59375 18.34375 27.34375 27.34375]\n",
      "4 [14.7578125 21.5078125 30.5078125 30.5078125]\n",
      "5 [17.13085938 23.88085938 32.88085938 32.88085938]\n",
      "6 [18.91064453 25.66064453 34.66064453 34.66064453]\n",
      "7 [20.2454834 26.9954834 35.9954834 35.9954834]\n",
      "8 [21.24661255 27.99661255 36.99661255 36.99661255]\n",
      "9 [21.99745941 28.74745941 37.74745941 37.74745941]\n",
      "10 [22.56059456 29.31059456 38.31059456 38.31059456]\n",
      "11 [22.98294592 29.73294592 38.73294592 38.73294592]\n",
      "12 [23.29970944 30.04970944 39.04970944 39.04970944]\n",
      "13 [23.53728208 30.28728208 39.28728208 39.28728208]\n",
      "14 [23.71546156 30.46546156 39.46546156 39.46546156]\n",
      "15 [23.84909617 30.59909617 39.59909617 39.59909617]\n",
      "16 [23.94932213 30.69932213 39.69932213 39.69932213]\n",
      "17 [24.0244916 30.7744916 39.7744916 39.7744916]\n",
      "18 [24.0808687 30.8308687 39.8308687 39.8308687]\n",
      "19 [24.12315152 30.87315152 39.87315152 39.87315152]\n",
      "20 [24.15486364 30.90486364 39.90486364 39.90486364]\n",
      "21 [24.17864773 30.92864773 39.92864773 39.92864773]\n",
      "22 [24.1964858 30.9464858 39.9464858 39.9464858]\n",
      "23 [24.20986435 30.95986435 39.95986435 39.95986435]\n",
      "24 [24.21989826 30.96989826 39.96989826 39.96989826]\n",
      "25 [24.2274237 30.9774237 39.9774237 39.9774237]\n",
      "26 [24.23306777 30.98306777 39.98306777 39.98306777]\n",
      "27 [24.23730083 30.98730083 39.98730083 39.98730083]\n",
      "28 [24.24047562 30.99047562 39.99047562 39.99047562]\n",
      "29 [24.24285672 30.99285672 39.99285672 39.99285672]\n",
      "30 [24.24464254 30.99464254 39.99464254 39.99464254]\n",
      "31 [24.2459819 30.9959819 39.9959819 39.9959819]\n",
      "32 [24.24698643 30.99698643 39.99698643 39.99698643]\n",
      "33 [24.24773982 30.99773982 39.99773982 39.99773982]\n",
      "34 [24.24830487 30.99830487 39.99830487 39.99830487]\n",
      "35 [24.24872865 30.99872865 39.99872865 39.99872865]\n",
      "36 [24.24904649 30.99904649 39.99904649 39.99904649]\n",
      "37 [24.24928487 30.99928487 39.99928487 39.99928487]\n",
      "38 [24.24946365 30.99946365 39.99946365 39.99946365]\n",
      "39 [24.24959774 30.99959774 39.99959774 39.99959774]\n",
      "40 [24.2496983 30.9996983 39.9996983 39.9996983]\n",
      "41 [24.24977373 30.99977373 39.99977373 39.99977373]\n",
      "42 [24.2498303 30.9998303 39.9998303 39.9998303]\n",
      "43 [24.24987272 30.99987272 39.99987272 39.99987272]\n",
      "44 [24.24990454 30.99990454 39.99990454 39.99990454]\n",
      "45 [24.24992841 30.99992841 39.99992841 39.99992841]\n",
      "46 [24.2499463 30.9999463 39.9999463 39.9999463]\n",
      "47 [24.24995973 30.99995973 39.99995973 39.99995973]\n",
      "48 [24.2499698 30.9999698 39.9999698 39.9999698]\n",
      "49 [24.24997735 30.99997735 39.99997735 39.99997735]\n",
      "50 [24.24998301 30.99998301 39.99998301 39.99998301]\n",
      "51 [24.24998726 30.99998726 39.99998726 39.99998726]\n",
      "52 [24.24999044 30.99999044 39.99999044 39.99999044]\n",
      "53 [24.24999283 30.99999283 39.99999283 39.99999283]\n",
      "54 [24.24999462 30.99999462 39.99999462 39.99999462]\n",
      "55 [24.24999597 30.99999597 39.99999597 39.99999597]\n",
      "56 [24.24999698 30.99999698 39.99999698 39.99999698]\n",
      "57 [24.24999773 30.99999773 39.99999773 39.99999773]\n",
      "58 [24.2499983 30.9999983 39.9999983 39.9999983]\n",
      "59 [24.24999872 30.99999872 39.99999872 39.99999872]\n",
      "60 [24.24999904 30.99999904 39.99999904 39.99999904]\n",
      "61 [24.24999928 30.99999928 39.99999928 39.99999928]\n",
      "62 [24.24999946 30.99999946 39.99999946 39.99999946]\n",
      "63 [24.2499996 30.9999996 39.9999996 39.9999996]\n",
      "64 [24.2499997 30.9999997 39.9999997 39.9999997]\n",
      "65 [24.24999977 30.99999977 39.99999977 39.99999977]\n",
      "66 [24.24999983 30.99999983 39.99999983 39.99999983]\n",
      "67 [24.24999987 30.99999987 39.99999987 39.99999987]\n",
      "68 [24.2499999 30.9999999 39.9999999 39.9999999]\n",
      "69 [24.24999993 30.99999993 39.99999993 39.99999993]\n",
      "70 [24.24999995 30.99999995 39.99999995 39.99999995]\n",
      "71 [24.24999996 30.99999996 39.99999996 39.99999996]\n",
      "72 [24.24999997 30.99999997 39.99999997 39.99999997]\n",
      "73 [24.24999998 30.99999998 39.99999998 39.99999998]\n",
      "74 [24.24999998 30.99999998 39.99999998 39.99999998]\n",
      "75 [24.24999999 30.99999999 39.99999999 39.99999999]\n",
      "76 [24.24999999 30.99999999 39.99999999 39.99999999]\n",
      "77 [24.24999999 30.99999999 39.99999999 39.99999999]\n",
      "78 [24.24999999 30.99999999 39.99999999 39.99999999]\n",
      "79 [24.25 31.   40.   40.  ]\n",
      "80 [24.25 31.   40.   40.  ]\n",
      "81 [24.25 31.   40.   40.  ]\n",
      "82 [24.25 31.   40.   40.  ]\n",
      "83 [24.25 31.   40.   40.  ]\n",
      "84 [24.25 31.   40.   40.  ]\n",
      "85 [24.25 31.   40.   40.  ]\n",
      "86 [24.25 31.   40.   40.  ]\n",
      "87 [24.25 31.   40.   40.  ]\n",
      "88 [24.25 31.   40.   40.  ]\n",
      "89 [24.25 31.   40.   40.  ]\n",
      "90 [24.25 31.   40.   40.  ]\n",
      "91 [24.25 31.   40.   40.  ]\n",
      "92 [24.25 31.   40.   40.  ]\n",
      "93 [24.25 31.   40.   40.  ]\n",
      "94 [24.25 31.   40.   40.  ]\n",
      "95 [24.25 31.   40.   40.  ]\n",
      "96 [24.25 31.   40.   40.  ]\n",
      "97 [24.25 31.   40.   40.  ]\n",
      "98 [24.25 31.   40.   40.  ]\n",
      "99 [24.25 31.   40.   40.  ]\n"
     ]
    }
   ],
   "source": [
    "for i in range(imax): #for all iterations\n",
    "    #print(\"i=\",i)\n",
    "    for istate in range(nstates): #for all states\n",
    "        #print(\"state=\",istate)\n",
    "        iactions = np.nonzero(a[istate])[0] #find what actions are allowed for that state\n",
    "        #print(\"iactions=\",iactions)\n",
    "        voptions = np.zeros(iactions.shape[0]) #initialize v array for that state to enter the values for all actions\n",
    "        n=0\n",
    "        for action in iactions:\n",
    "            voptions[n] = r[istate,action] + gamma * v[action]\n",
    "            n = n + 1\n",
    "        #print(\"voptions=\",voptions)\n",
    "        vf[istate] = np.amax(voptions)  #store the new v values in a temp array (current values are needed for updates)\n",
    "        #print(\"vf[istate]=\",vf[istate])\n",
    "    v = np.copy(vf) #copy all new values to the v array\n",
    "    print(i,v)"
   ]
  },
  {
   "cell_type": "code",
   "execution_count": 200,
   "id": "efe0e947",
   "metadata": {},
   "outputs": [
    {
     "data": {
      "text/plain": [
       "array([24.25, 31.  , 40.  , 40.  ])"
      ]
     },
     "execution_count": 200,
     "metadata": {},
     "output_type": "execute_result"
    }
   ],
   "source": [
    "v"
   ]
  },
  {
   "cell_type": "markdown",
   "id": "f32be097",
   "metadata": {},
   "source": [
    "find the best policy for each state (could have implemented it on the previous part of the code)"
   ]
  },
  {
   "cell_type": "code",
   "execution_count": 201,
   "id": "a4fc76da",
   "metadata": {},
   "outputs": [
    {
     "name": "stdout",
     "output_type": "stream",
     "text": [
      "0 [1] [24.25]\n",
      "1 [0 2] [19.1875 31.    ]\n",
      "2 [1 3] [24.25 40.  ]\n",
      "3 [2] [40.]\n"
     ]
    }
   ],
   "source": [
    "for istate in range(nstates): #for all states\n",
    "    iactions = np.nonzero(a[istate])[0] #find what actions are allowed for that state\n",
    "    voptions = np.zeros(iactions.shape[0]) #initialize v array for that state to enter the values for all actions\n",
    "    n=0\n",
    "    for action in iactions:\n",
    "        voptions[n] = r[istate,action] + gamma * v[action]\n",
    "        n = n + 1\n",
    "    print(istate,iactions,voptions)"
   ]
  },
  {
   "cell_type": "markdown",
   "id": "7dbac669",
   "metadata": {},
   "source": [
    "Q-value iteration algorithm"
   ]
  },
  {
   "cell_type": "code",
   "execution_count": 216,
   "id": "5ba30b7e",
   "metadata": {},
   "outputs": [],
   "source": [
    "nstates = 6 #number of states\n",
    "nactions = 2 #number of actions\n",
    "a = np.array([0,1]) #0 = C, 1 = M actions array"
   ]
  },
  {
   "cell_type": "code",
   "execution_count": 232,
   "id": "d711eda8",
   "metadata": {},
   "outputs": [],
   "source": [
    "#initialize transition probability array\n",
    "t = np.zeros((nstates,nactions,nstates)) \n",
    "istate = 0\n",
    "t[istate,:,istate]=1.\n",
    "for istate in [4,5]:\n",
    "    t[istate,1,istate-1]=1.\n",
    "    t[istate,0,istate]=1.\n",
    "for istate in [1,2,3]:\n",
    "    t[istate,0,istate+2]=0.7\n",
    "    t[istate,0,istate]=0.3\n",
    "    t[istate,1,istate-1]=1."
   ]
  },
  {
   "cell_type": "code",
   "execution_count": 233,
   "id": "2407f599",
   "metadata": {},
   "outputs": [
    {
     "data": {
      "text/plain": [
       "array([[0. , 0. , 0. , 0.3, 0. , 0.7],\n",
       "       [0. , 0. , 1. , 0. , 0. , 0. ]])"
      ]
     },
     "execution_count": 233,
     "metadata": {},
     "output_type": "execute_result"
    }
   ],
   "source": [
    "t[3]"
   ]
  },
  {
   "cell_type": "code",
   "execution_count": 254,
   "id": "ca1bebcb",
   "metadata": {},
   "outputs": [],
   "source": [
    "#initialize rewards array\n",
    "r = np.zeros((nstates,nactions,nstates)) \n",
    "for iaction in range(nactions):\n",
    "    for istate in range(nstates):\n",
    "        for iistate in range(nstates):\n",
    "            if istate != iistate:\n",
    "                r[istate,iaction,iistate] = np.abs(iistate-istate)**(1./3.)\n",
    "            elif istate == iistate and istate !=0:\n",
    "                r[istate,iaction,istate] = (istate+4.)**(-0.5)\n",
    "            elif istate == iistate and istate ==0:\n",
    "                r[istate,iaction,istate] = 0."
   ]
  },
  {
   "cell_type": "code",
   "execution_count": 257,
   "id": "364d5a58",
   "metadata": {},
   "outputs": [],
   "source": [
    "gamma = 0.6\n",
    "q = np.zeros((nstates,nactions))\n",
    "qf = np.copy(q)\n",
    "imax = 1"
   ]
  },
  {
   "cell_type": "code",
   "execution_count": 258,
   "id": "dea9fcb3",
   "metadata": {},
   "outputs": [
    {
     "name": "stdout",
     "output_type": "stream",
     "text": [
      "0 \n",
      " [[0.         0.        ]\n",
      " [1.01610881 1.        ]\n",
      " [1.00441922 1.        ]\n",
      " [0.99533408 1.        ]\n",
      " [0.35355339 1.        ]\n",
      " [0.33333333 1.        ]]\n"
     ]
    }
   ],
   "source": [
    "for i in range(imax):\n",
    "    for istate in range(nstates):\n",
    "        for iaction in range(nactions):\n",
    "            temp_sum = 0.\n",
    "            for iistate in range(nstates):\n",
    "                temp_sum = temp_sum + t[istate,iaction,iistate]*(r[istate,iaction,iistate] + gamma * np.amax(q[iistate,:]))\n",
    "                #print(\"tempsum=\",temp_sum)\n",
    "            qf[istate,iaction] = temp_sum\n",
    "            #print(\"state=\",istate,\" action=\",iaction,\" q=\",qf[istate,iaction])\n",
    "    q = np.copy(qf)\n",
    "    print(i,\"\\n\",q)\n",
    "        "
   ]
  },
  {
   "cell_type": "code",
   "execution_count": 259,
   "id": "331886ee",
   "metadata": {},
   "outputs": [
    {
     "name": "stdout",
     "output_type": "stream",
     "text": [
      "0 [[0.         0.        ]\n",
      " [1.01610881 1.        ]\n",
      " [1.00441922 1.        ]\n",
      " [0.99533408 1.        ]\n",
      " [0.35355339 1.        ]\n",
      " [0.33333333 1.        ]]\n"
     ]
    }
   ],
   "source": [
    "print(i,q)"
   ]
  },
  {
   "cell_type": "code",
   "execution_count": 227,
   "id": "2526edc8",
   "metadata": {},
   "outputs": [
    {
     "data": {
      "text/plain": [
       "1.348500273637058"
      ]
     },
     "execution_count": 227,
     "metadata": {},
     "output_type": "execute_result"
    }
   ],
   "source": [
    "np.amax(q[1,:])"
   ]
  },
  {
   "cell_type": "code",
   "execution_count": null,
   "id": "7b39107a",
   "metadata": {},
   "outputs": [],
   "source": []
  }
 ],
 "metadata": {
  "kernelspec": {
   "display_name": "Python 3 (ipykernel)",
   "language": "python",
   "name": "python3"
  },
  "language_info": {
   "codemirror_mode": {
    "name": "ipython",
    "version": 3
   },
   "file_extension": ".py",
   "mimetype": "text/x-python",
   "name": "python",
   "nbconvert_exporter": "python",
   "pygments_lexer": "ipython3",
   "version": "3.9.7"
  }
 },
 "nbformat": 4,
 "nbformat_minor": 5
}
