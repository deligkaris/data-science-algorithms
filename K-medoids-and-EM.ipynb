{
 "cells": [
  {
   "cell_type": "code",
   "execution_count": 110,
   "metadata": {},
   "outputs": [],
   "source": [
    "import numpy as np"
   ]
  },
  {
   "cell_type": "markdown",
   "metadata": {},
   "source": [
    "implement the K-medoids algoright with l1 and l2 norms"
   ]
  },
  {
   "cell_type": "code",
   "execution_count": 119,
   "metadata": {},
   "outputs": [],
   "source": [
    "data = np.array([[0,-6],[4,4],[0,0],[-5,2]]) # my data set"
   ]
  },
  {
   "cell_type": "code",
   "execution_count": 120,
   "metadata": {},
   "outputs": [],
   "source": [
    "k=2 #number of clusters"
   ]
  },
  {
   "cell_type": "code",
   "execution_count": 125,
   "metadata": {},
   "outputs": [],
   "source": [
    "lnorm = 2 #which norm to use, l1 or l2"
   ]
  },
  {
   "cell_type": "code",
   "execution_count": 126,
   "metadata": {},
   "outputs": [],
   "source": [
    "#centers = np.array([[-5,2],[0,-6]])\n",
    "centers = np.array([3,0]) #use indices to indicate centers of clusters for K-medoids algorithm"
   ]
  },
  {
   "cell_type": "code",
   "execution_count": 10,
   "metadata": {},
   "outputs": [],
   "source": [
    "#choice = np.random.choice(data.shape[0],k)"
   ]
  },
  {
   "cell_type": "code",
   "execution_count": 12,
   "metadata": {},
   "outputs": [],
   "source": [
    "#new = data[choice]"
   ]
  },
  {
   "cell_type": "code",
   "execution_count": 127,
   "metadata": {},
   "outputs": [
    {
     "name": "stdout",
     "output_type": "stream",
     "text": [
      "0 [1 0 0 0]\n",
      "0 [14.87639871 11.04201906 14.60470926]\n",
      "0 [2 0]\n",
      "1 [0.]\n",
      "1 [2 0]\n",
      "1 [1 0 0 0]\n",
      "0 [14.87639871 11.04201906 14.60470926]\n",
      "0 [2 0]\n",
      "1 [0.]\n",
      "1 [2 0]\n",
      "2 [1 0 0 0]\n",
      "0 [14.87639871 11.04201906 14.60470926]\n",
      "0 [2 0]\n",
      "1 [0.]\n",
      "1 [2 0]\n"
     ]
    }
   ],
   "source": [
    "#K-medoids algorithm\n",
    "for n in range(3):\n",
    "    # assign each point to a cluster\n",
    "    cost = np.empty([data.shape[0],k]) # store the distances between all data points and the centers \n",
    "    for i in range(data.shape[0]):\n",
    "        for j in range(k):\n",
    "            cost[i,j] = np.linalg.norm(data[i]-data[centers[j]],ord=lnorm) #do the distance calculations\n",
    "    clusters = np.argmin(cost,axis=1) # assign all data points to the center with the minimum distance\n",
    "    \n",
    "    #calculate the cost for each cluster\n",
    "    data_cost = cost[range(data.shape[0]),clusters] #find the cost associated with each data point\n",
    "    for j in range(k):\n",
    "        cluster_cost[j] = np.sum(data_cost[clusters==j]) #calculate the cost associated with each cluster\n",
    "    print(n,clusters)\n",
    "     \n",
    "    # find the new centers\n",
    "    for j in range(k): #now we are first iterating through each cluster\n",
    "        \n",
    "        #I could (I think) avoid doing these cost calculations, I think I could just create\n",
    "        #a cost array between all points once and simply access that every time I need it\n",
    "        cluster_size = np.count_nonzero(clusters==j)\n",
    "        cost = np.empty([cluster_size,cluster_size]) #create a cost array for each cluster\n",
    "        for i in range(cluster_size):\n",
    "            for ii in range(cluster_size):\n",
    "                cost[i,ii] = np.linalg.norm(data[np.where(clusters==j)[0][i]] - data[np.where(clusters==j)[0][ii]],ord=lnorm)\n",
    "        \n",
    "        center_cost = np.sum(cost,axis=0) #find the cost for making each cluster point a center\n",
    "        print(j,center_cost)\n",
    "        center_cost_min = np.min(center_cost) #find the minimum cost\n",
    "        #set the new center to be the data point with min cluster cost\n",
    "        centers[j] = np.where(clusters==j)[0][np.argmin(center_cost)] \n",
    "        print(j,centers)\n",
    "        \n",
    "            "
   ]
  },
  {
   "cell_type": "markdown",
   "metadata": {},
   "source": [
    "implement the EM algorithm for a mixture of Gaussians"
   ]
  },
  {
   "cell_type": "code",
   "execution_count": 181,
   "metadata": {},
   "outputs": [],
   "source": [
    "k=2 # number of mixtures\n",
    "prob = np.empty(k)\n",
    "mu = np.empty(k)\n",
    "s2 = np.empty(k)"
   ]
  },
  {
   "cell_type": "code",
   "execution_count": 182,
   "metadata": {},
   "outputs": [],
   "source": [
    "#initialization\n",
    "prob = np.array([0.5,0.5])\n",
    "mu = np.array([6,7])\n",
    "s2 = np.array([1,4])"
   ]
  },
  {
   "cell_type": "code",
   "execution_count": 183,
   "metadata": {},
   "outputs": [],
   "source": [
    "x = np.array([-1,0,4,5,6]) #data"
   ]
  },
  {
   "cell_type": "code",
   "execution_count": 184,
   "metadata": {},
   "outputs": [],
   "source": [
    "def mygaussian(x,mu,s2):\n",
    "    return (1/np.sqrt(2*np.pi*s2)) * np.exp(-(1/(2*s2))*(np.abs(x-mu))**2)"
   ]
  },
  {
   "cell_type": "code",
   "execution_count": 185,
   "metadata": {},
   "outputs": [],
   "source": [
    "probmatrix = np.empty([x.shape[0],k])"
   ]
  },
  {
   "cell_type": "code",
   "execution_count": 186,
   "metadata": {},
   "outputs": [],
   "source": [
    "def logprob(x,mu,s2,prob,k):\n",
    "    result = 1.\n",
    "    for i in range(x.shape[0]):\n",
    "        thesum = 0\n",
    "        for j in range(k):\n",
    "            thesum = thesum + prob[j]*mygaussian(x[i],mu[j],s2[j]) \n",
    "        result = result * thesum\n",
    "    return np.log(result)"
   ]
  },
  {
   "cell_type": "code",
   "execution_count": 187,
   "metadata": {},
   "outputs": [
    {
     "data": {
      "text/plain": [
       "-24.512532330086678"
      ]
     },
     "execution_count": 187,
     "metadata": {},
     "output_type": "execute_result"
    }
   ],
   "source": [
    "logprob(x,mu,s2,prob,k)"
   ]
  },
  {
   "cell_type": "markdown",
   "metadata": {},
   "source": [
    "To do: division by zero is encountered during runtime"
   ]
  },
  {
   "cell_type": "code",
   "execution_count": 188,
   "metadata": {},
   "outputs": [
    {
     "name": "stdout",
     "output_type": "stream",
     "text": [
      "iteration =  0 [[1.36512049e-07 9.99999863e-01]\n",
      " [1.39244156e-05 9.99986076e-01]\n",
      " [4.54661673e-01 5.45338327e-01]\n",
      " [6.66666667e-01 3.33333333e-01]\n",
      " [6.93842896e-01 3.06157104e-01]]\n",
      "iteration =  1 [[nan nan]\n",
      " [nan nan]\n",
      " [nan nan]\n",
      " [nan nan]\n",
      " [nan nan]]\n"
     ]
    },
    {
     "name": "stderr",
     "output_type": "stream",
     "text": [
      "<ipython-input-184-279007e11a01>:2: RuntimeWarning: divide by zero encountered in double_scalars\n",
      "  return (1/np.sqrt(2*np.pi*s2)) * np.exp(-(1/(2*s2))*(np.abs(x-mu))**2)\n",
      "<ipython-input-184-279007e11a01>:2: RuntimeWarning: divide by zero encountered in long_scalars\n",
      "  return (1/np.sqrt(2*np.pi*s2)) * np.exp(-(1/(2*s2))*(np.abs(x-mu))**2)\n",
      "<ipython-input-184-279007e11a01>:2: RuntimeWarning: invalid value encountered in double_scalars\n",
      "  return (1/np.sqrt(2*np.pi*s2)) * np.exp(-(1/(2*s2))*(np.abs(x-mu))**2)\n"
     ]
    },
    {
     "ename": "ValueError",
     "evalue": "cannot convert float NaN to integer",
     "output_type": "error",
     "traceback": [
      "\u001b[0;31m---------------------------------------------------------------------------\u001b[0m",
      "\u001b[0;31mValueError\u001b[0m                                Traceback (most recent call last)",
      "\u001b[0;32m<ipython-input-188-0a2f47ae9461>\u001b[0m in \u001b[0;36m<module>\u001b[0;34m\u001b[0m\n\u001b[1;32m     21\u001b[0m         \u001b[0ms2\u001b[0m\u001b[0;34m[\u001b[0m\u001b[0mj\u001b[0m\u001b[0;34m]\u001b[0m\u001b[0;34m=\u001b[0m\u001b[0;36m0\u001b[0m\u001b[0;34m\u001b[0m\u001b[0;34m\u001b[0m\u001b[0m\n\u001b[1;32m     22\u001b[0m         \u001b[0;32mfor\u001b[0m \u001b[0mi\u001b[0m \u001b[0;32min\u001b[0m \u001b[0mrange\u001b[0m\u001b[0;34m(\u001b[0m\u001b[0mx\u001b[0m\u001b[0;34m.\u001b[0m\u001b[0mshape\u001b[0m\u001b[0;34m[\u001b[0m\u001b[0;36m0\u001b[0m\u001b[0;34m]\u001b[0m\u001b[0;34m)\u001b[0m\u001b[0;34m:\u001b[0m\u001b[0;34m\u001b[0m\u001b[0;34m\u001b[0m\u001b[0m\n\u001b[0;32m---> 23\u001b[0;31m             \u001b[0ms2\u001b[0m\u001b[0;34m[\u001b[0m\u001b[0mj\u001b[0m\u001b[0;34m]\u001b[0m \u001b[0;34m=\u001b[0m \u001b[0ms2\u001b[0m\u001b[0;34m[\u001b[0m\u001b[0mj\u001b[0m\u001b[0;34m]\u001b[0m \u001b[0;34m+\u001b[0m \u001b[0mprobmatrix\u001b[0m\u001b[0;34m[\u001b[0m\u001b[0mi\u001b[0m\u001b[0;34m,\u001b[0m\u001b[0mj\u001b[0m\u001b[0;34m]\u001b[0m\u001b[0;34m*\u001b[0m\u001b[0;34m(\u001b[0m\u001b[0mnp\u001b[0m\u001b[0;34m.\u001b[0m\u001b[0mabs\u001b[0m\u001b[0;34m(\u001b[0m\u001b[0mx\u001b[0m\u001b[0;34m[\u001b[0m\u001b[0mi\u001b[0m\u001b[0;34m]\u001b[0m\u001b[0;34m-\u001b[0m\u001b[0mmu\u001b[0m\u001b[0;34m[\u001b[0m\u001b[0mj\u001b[0m\u001b[0;34m]\u001b[0m\u001b[0;34m)\u001b[0m\u001b[0;34m)\u001b[0m\u001b[0;34m**\u001b[0m\u001b[0;36m2\u001b[0m\u001b[0;34m\u001b[0m\u001b[0;34m\u001b[0m\u001b[0m\n\u001b[0m\u001b[1;32m     24\u001b[0m         \u001b[0ms2\u001b[0m\u001b[0;34m[\u001b[0m\u001b[0mj\u001b[0m\u001b[0;34m]\u001b[0m \u001b[0;34m=\u001b[0m \u001b[0ms2\u001b[0m\u001b[0;34m[\u001b[0m\u001b[0mj\u001b[0m\u001b[0;34m]\u001b[0m\u001b[0;34m/\u001b[0m\u001b[0mn\u001b[0m\u001b[0;34m[\u001b[0m\u001b[0mj\u001b[0m\u001b[0;34m]\u001b[0m\u001b[0;34m\u001b[0m\u001b[0;34m\u001b[0m\u001b[0m\n",
      "\u001b[0;31mValueError\u001b[0m: cannot convert float NaN to integer"
     ]
    }
   ],
   "source": [
    "T = 2\n",
    "for t in range(T):\n",
    "\n",
    "    #E-step\n",
    "    for i in range(x.shape[0]):\n",
    "        for j in range(k):\n",
    "            probmatrix[i,j] = prob[j]*mygaussian(x[i],mu[j],s2[j])\n",
    "        \n",
    "    cluster_sum = np.sum(probmatrix,axis=1) #find the sum of numerators\n",
    "\n",
    "    for i in range(x.shape[0]):\n",
    "        for j in range(k):\n",
    "            probmatrix[i,j] = probmatrix[i,j]/cluster_sum[i] #normalize so that sum of probabilities over cluster is 1\n",
    "    print(\"iteration = \",t,probmatrix)  \n",
    "    #M-step\n",
    "    n = np.sum(probmatrix,axis=0)\n",
    "    prob = n/np.sum(n)\n",
    "    mu = (1/n)*np.dot(np.transpose(probmatrix),x)\n",
    "\n",
    "    for j in range(k):\n",
    "        s2[j]=0\n",
    "        for i in range(x.shape[0]):\n",
    "            s2[j] = s2[j] + probmatrix[i,j]*(np.abs(x[i]-mu[j]))**2\n",
    "        s2[j] = s2[j]/n[j]"
   ]
  },
  {
   "cell_type": "code",
   "execution_count": null,
   "metadata": {},
   "outputs": [],
   "source": []
  }
 ],
 "metadata": {
  "kernelspec": {
   "display_name": "Python 3 (ipykernel)",
   "language": "python",
   "name": "python3"
  },
  "language_info": {
   "codemirror_mode": {
    "name": "ipython",
    "version": 3
   },
   "file_extension": ".py",
   "mimetype": "text/x-python",
   "name": "python",
   "nbconvert_exporter": "python",
   "pygments_lexer": "ipython3",
   "version": "3.9.7"
  }
 },
 "nbformat": 4,
 "nbformat_minor": 4
}
